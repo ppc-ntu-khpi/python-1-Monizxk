{
  "metadata": {
    "language_info": {
      "codemirror_mode": {
        "name": "python",
        "version": 3
      },
      "file_extension": ".py",
      "mimetype": "text/x-python",
      "name": "python",
      "nbconvert_exporter": "python",
      "pygments_lexer": "ipython3",
      "version": "3.8"
    },
    "kernelspec": {
      "name": "python",
      "display_name": "Python (Pyodide)",
      "language": "python"
    }
  },
  "nbformat_minor": 4,
  "nbformat": 4,
  "cells": [
    {
      "cell_type": "code",
      "source": "def sqrPlus1(x):\n    return x**2 + 1\n\nnumbers = []\nn = 1\n\nwhile n <= 10:\n    x = int(input(f\"{n} - введіть число від 0 до 10: \"))\n    \n    if 0 <= x <= 10:\n        numbers.append(sqrPlus1(x))\n    else:\n        print(\"Потрібне число від 0 до 10!\")\n    \n    n += 1\n\nprint(numbers)",
      "metadata": {},
      "execution_count": null,
      "outputs": []
    },
    {
      "cell_type": "code",
      "source": "add = lambda a, b: a + b\nsub = lambda a, b: a - b\nmul = lambda a, b: a * b\ndiv = lambda a, b: a / b if b != 0 else 0\n\na = int(input(\"Введіть перше число:\"))\nb = int(input(\"Введіть друге число:\"))\nc = 0\n\nmenu = {}\nmenu['1']=\"Додати числа\" \nmenu['2']=\"Відняти числа\"\nmenu['3']=\"Перемножити числа\"\nmenu['4']=\"Поділити числа\"\nmenu['5']=\"завершити роботу\"\noptions=menu.keys()\nfor entry in options: \n    print(entry, menu[entry])\nwhile True:   \n  selection=input(\"Оберіть операцію:\") \n  if selection =='1': \n    print(\"Додавання:\", add(a, b))\n  elif selection == '2': \n    print(\"Віднімання:\", sub(a, b))\n  elif selection == '3':\n    print(\"Множення:\",mul(a, b))\n  elif selection == '4': \n    print(\"Ділення\",div(a, b))\n  elif selection == '5': \n    break\n  else: \n    print (\"Невідома операція!\")",
      "metadata": {},
      "execution_count": null,
      "outputs": []
    },
    {
      "cell_type": "code",
      "source": "def controlEngine(id, name, operation=\"стоп\", priority=\"високий\"):\n    print('Агрегат:', name, '#', id, \"\\n\\tОбрана операція:\", operation, \"\\n\\tПриоритет:\", priority)\n    \ncontrolEngine(1,\"реактор\")\ncontrolEngine(1,\"реактор\",\"запуск\")\ncontrolEngine(1,\"реактор\", priority=\"звичайний\")\ncontrolEngine(operation = \"запуск\", id = 1,name = \"реактор\", priority = \"звичайний\")",
      "metadata": {},
      "execution_count": null,
      "outputs": []
    }
  ]
}