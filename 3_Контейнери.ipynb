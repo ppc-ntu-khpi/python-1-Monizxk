{
  "metadata": {
    "language_info": {
      "codemirror_mode": {
        "name": "python",
        "version": 3
      },
      "file_extension": ".py",
      "mimetype": "text/x-python",
      "name": "python",
      "nbconvert_exporter": "python",
      "pygments_lexer": "ipython3",
      "version": "3.8"
    },
    "kernelspec": {
      "name": "python",
      "display_name": "Python (Pyodide)",
      "language": "python"
    }
  },
  "nbformat_minor": 4,
  "nbformat": 4,
  "cells": [
    {
      "cell_type": "code",
      "source": "C = [10.0, 15.5, 17.1, 17.6, 19.0, 19.9, 25.0, 25.8, 28.0, 29.0, 30.1]\n\nfahrenheit_temperatures = [round((c * 9/5) + 32, 1) for c in C]\n\ncount = len(fahrenheit_temperatures)\n\nprint(\"Градуси Фаренгейта:\", fahrenheit_temperatures)\nprint(\"Зворотний порядок:\", fahrenheit_temperatures[::-1])\nprint(\"Кількість елементів:\", count)",
      "metadata": {},
      "execution_count": null,
      "outputs": []
    },
    {
      "cell_type": "code",
      "source": "grades = (4, 5, 4, 4, 3, 5, 3, 3, 2, 5, 5, 5)\n\nif 2 in grades:\n    print('Студент має принаймні одну двійку з дисципліни!')\nelse:\n    print('Студент вчиться без двійок')",
      "metadata": {},
      "execution_count": null,
      "outputs": []
    },
    {
      "cell_type": "code",
      "source": "students = {\"Васильєв\": 3.5, \"Семенов\": 4.0, \"Петров\": 4.5, \"Іванов\": 3.0, \"Мар'їн\": 5.0}\n\nfor student in students.keys():\n    students[student] = students[student] + 1 if students[student] + 1 <= 5.0 else 5.0\n\nstudents",
      "metadata": {},
      "execution_count": null,
      "outputs": []
    },
    {
      "cell_type": "code",
      "source": "responces = [\"Іванов\", \"Петров\", \"Сидоров\", \"Васильєв\", \"Семенов\", \"Іванов\", \"Мар'їн\", \"Сидоров\", \"Дмитрієв\", \"Іванов\"]\n\nrespondents = set(responces)\n\nprint(\"Всього анкет заповнено:\", len(responces))\nprint(\"Всього респондентів:\", len(respondents))",
      "metadata": {},
      "execution_count": null,
      "outputs": []
    }
  ]
}